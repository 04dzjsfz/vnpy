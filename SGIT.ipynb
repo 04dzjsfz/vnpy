{
 "cells": [
  {
   "cell_type": "code",
   "execution_count": 1,
   "metadata": {},
   "outputs": [],
   "source": [
    "    setting = {\n",
    "        \"用户名\": \"08000047\",\n",
    "        \"密码\": \"888888\",\n",
    "        \"经纪商代码\": \"\",\n",
    "        \"交易服务器\": \"140.206.81.6:27776\",\n",
    "        \"行情服务器\": \"140.206.81.6:27777\",\n",
    "        \"产品名称\": \"\",\n",
    "        \"授权编码\": \"\",\n",
    "        \"产品信息\": \"\"\n",
    "    }"
   ]
  },
  {
   "cell_type": "code",
   "execution_count": 2,
   "metadata": {},
   "outputs": [],
   "source": [
    "from vnpy.app.script_trader import init_cli_trading\n",
    "from vnpy.app.script_trader import ScriptEngine\n",
    "from vnpy.gateway.sgit import SgitGateway\n",
    "from vnpy.trader.constant import OrderType\n",
    "\n",
    "engine = init_cli_trading([SgitGateway])"
   ]
  },
  {
   "cell_type": "code",
   "execution_count": 3,
   "metadata": {},
   "outputs": [
    {
     "name": "stdout",
     "output_type": "stream",
     "text": [
      "2020-02-12 14:54:23.004593\t行情服务器连接成功\n",
      "2020-02-12 14:54:23.004979\t交易服务器连接成功\n",
      "2020-02-12 14:54:23.009894\t行情服务器登录成功\n",
      "2020-02-12 14:54:23.010316\t交易服务器登录成功\n",
      "2020-02-12 14:54:23.022660\t结算信息确认成功\n",
      "--------OnTrader:2020-02-12 14:54:23.072072\t合约信息查询成功\n",
      " TradeData(gateway_name='SGIT', symbol='IF2003', exchange=<Exchange.CFFEX: 'CFFEX'>, orderid='0_0_2', tradeid='00000001', direction=<Direction.LONG: '多'>, offset=<Offset.OPEN: '开'>, price=3904.2, volume=1, time='11:21:07')\n",
      "--------OnTrader: TradeData(gateway_name='SGIT', symbol='IF2003', exchange=<Exchange.CFFEX: 'CFFEX'>, orderid='0_0_3', tradeid='00000002', direction=<Direction.LONG: '多'>, offset=<Offset.OPEN: '开'>, price=3904.2, volume=1, time='11:22:34')\n",
      "--------OnTrader: TradeData(gateway_name='SGIT', symbol='IF2003', exchange=<Exchange.CFFEX: 'CFFEX'>, orderid='0_0_3', tradeid='00000003', direction=<Direction.LONG: '多'>, offset=<Offset.OPEN: '开'>, price=3904.2, volume=1, time='11:22:37')\n",
      "--------OnTrader: TradeData(gateway_name='SGIT', symbol='IF2003', exchange=<Exchange.CFFEX: 'CFFEX'>, orderid='0_0_4', tradeid='00000004', direction=<Direction.SHORT: '空'>, offset=<Offset.CLOSE: '平'>, price=3902.8, volume=1, time='13:33:20')\n",
      "--------OnTrader: TradeData(gateway_name='SGIT', symbol='IF2003', exchange=<Exchange.CFFEX: 'CFFEX'>, orderid='0_0_4', tradeid='00000005', direction=<Direction.SHORT: '空'>, offset=<Offset.CLOSE: '平'>, price=3902.8, volume=1, time='13:34:09')\n",
      "--------OnTrader: TradeData(gateway_name='SGIT', symbol='IF2003', exchange=<Exchange.CFFEX: 'CFFEX'>, orderid='0_0_5', tradeid='00000006', direction=<Direction.SHORT: '空'>, offset=<Offset.OPEN: '开'>, price=3902.8, volume=2, time='13:39:47')\n",
      "--------OnTrader: TradeData(gateway_name='SGIT', symbol='IF2003', exchange=<Exchange.CFFEX: 'CFFEX'>, orderid='0_0_6', tradeid='00000007', direction=<Direction.LONG: '多'>, offset=<Offset.CLOSE: '平'>, price=3904.2, volume=1, time='13:47:41')\n",
      "--------OnTrader: TradeData(gateway_name='SGIT', symbol='IF2003', exchange=<Exchange.CFFEX: 'CFFEX'>, orderid='0_0_8', tradeid='00000008', direction=<Direction.LONG: '多'>, offset=<Offset.OPEN: '开'>, price=3904.2, volume=1, time='14:25:27')\n",
      "--------OnTrader: TradeData(gateway_name='SGIT', symbol='IF2003', exchange=<Exchange.CFFEX: 'CFFEX'>, orderid='0_0_8', tradeid='00000009', direction=<Direction.LONG: '多'>, offset=<Offset.OPEN: '开'>, price=3904.2, volume=1, time='14:26:26')\n"
     ]
    }
   ],
   "source": [
    "engine.connect_gateway(setting, \"SGIT\")"
   ]
  },
  {
   "cell_type": "code",
   "execution_count": null,
   "metadata": {},
   "outputs": [],
   "source": [
    "engine.get_all_accounts(use_df=True)"
   ]
  },
  {
   "cell_type": "code",
   "execution_count": null,
   "metadata": {},
   "outputs": [],
   "source": [
    "engine.get_all_positions(use_df=True)"
   ]
  },
  {
   "cell_type": "code",
   "execution_count": null,
   "metadata": {},
   "outputs": [],
   "source": [
    "engine.get_all_contracts(use_df=True)"
   ]
  },
  {
   "cell_type": "code",
   "execution_count": null,
   "metadata": {
    "scrolled": false
   },
   "outputs": [],
   "source": [
    "engine.subscribe(vt_symbols=[\"zn2010.SHFE\", \"IF2003.CFFEX\"])"
   ]
  },
  {
   "cell_type": "code",
   "execution_count": null,
   "metadata": {},
   "outputs": [],
   "source": [
    "engine.get_tick(\"zn2010.SHFE\")"
   ]
  },
  {
   "cell_type": "code",
   "execution_count": null,
   "metadata": {},
   "outputs": [],
   "source": [
    "engine.get_tick(\"IF2003.CFFEX\")"
   ]
  },
  {
   "cell_type": "code",
   "execution_count": null,
   "metadata": {},
   "outputs": [],
   "source": [
    "engine.buy(vt_symbol=\"IF2003.CFFEX\", price=3960,volume=2, order_type=OrderType.LIMIT)"
   ]
  },
  {
   "cell_type": "code",
   "execution_count": 4,
   "metadata": {},
   "outputs": [
    {
     "data": {
      "text/plain": [
       "OrderData(gateway_name='SGIT', symbol='IF2003', exchange=<Exchange.CFFEX: 'CFFEX'>, orderid='0_0_7', type=<OrderType.LIMIT: '限价'>, direction=<Direction.LONG: '多'>, offset=<Offset.OPEN: '开'>, price=3890.0, volume=1, traded=0, status=<Status.NOTTRADED: '未成交'>, time='14:01:06')"
      ]
     },
     "execution_count": 4,
     "metadata": {},
     "output_type": "execute_result"
    }
   ],
   "source": [
    "engine.get_order(vt_orderid=\"SGIT.0_0_7\")"
   ]
  },
  {
   "cell_type": "code",
   "execution_count": 5,
   "metadata": {},
   "outputs": [
    {
     "data": {
      "text/plain": [
       "[OrderData(gateway_name='SGIT', symbol='IF2003', exchange=<Exchange.CFFEX: 'CFFEX'>, orderid='0_0_7', type=<OrderType.LIMIT: '限价'>, direction=<Direction.LONG: '多'>, offset=<Offset.OPEN: '开'>, price=3890.0, volume=1, traded=0, status=<Status.NOTTRADED: '未成交'>, time='14:01:06')]"
      ]
     },
     "execution_count": 5,
     "metadata": {},
     "output_type": "execute_result"
    }
   ],
   "source": [
    "engine.get_all_active_orders()"
   ]
  },
  {
   "cell_type": "code",
   "execution_count": null,
   "metadata": {},
   "outputs": [],
   "source": [
    "engine.get_trades(\"SGIT.0_0_6\")"
   ]
  },
  {
   "cell_type": "code",
   "execution_count": 6,
   "metadata": {},
   "outputs": [
    {
     "name": "stdout",
     "output_type": "stream",
     "text": [
      "reqcancel: CancelRequest(orderid='0_0_7', symbol='IF2003', exchange=<Exchange.CFFEX: 'CFFEX'>) \n",
      " CancelOrder: {'InstrumentID': 'IF2003', 'ExchangeID': 'CFFEX', 'OrderRef': '7', 'FrontID': 0, 'SessionID': 0, 'ActionFlag': '0', 'BrokerID': '', 'InvestorID': '08000047', 'OrderSysID': '00000006'}\n",
      "2020-02-12 14:54:44.981337\t交易撤单失败，代码：0，信息：撤单成功！\n",
      "2020-02-12 16:17:57.241709\t行情服务器连接断开，原因-1\n",
      "2020-02-12 16:17:59.336228\t交易服务器连接断开，原因-1\n",
      "2020-02-12 16:18:18.246264\t行情服务器连接成功\n",
      "2020-02-12 16:18:18.252868\t行情服务器登录成功\n",
      "2020-02-12 16:20:26.341014\t交易服务器连接成功\n",
      "2020-02-12 16:20:26.359517\t交易服务器登录成功\n",
      "--------OnTrader: TradeData(gateway_name='SGIT', symbol='IF2003', exchange=<Exchange.CFFEX: 'CFFEX'>, orderid='0_0_000000002000', tradeid='00000001', direction=<Direction.LONG: '多'>, offset=<Offset.OPEN: '开'>, price=3904.2, volume=1, time='11:21:07')\n",
      "--------OnTrader: TradeData(gateway_name='SGIT', symbol='IF2003', exchange=<Exchange.CFFEX: 'CFFEX'>, orderid='0_0_000000003000', tradeid='00000002', direction=<Direction.LONG: '多'>, offset=<Offset.OPEN: '开'>, price=3904.2, volume=1, time='11:22:34')\n",
      "--------OnTrader: TradeData(gateway_name='SGIT', symbol='IF2003', exchange=<Exchange.CFFEX: 'CFFEX'>, orderid='0_0_000000003000', tradeid='00000003', direction=<Direction.LONG: '多'>, offset=<Offset.OPEN: '开'>, price=3904.2, volume=1, time='11:22:37')\n",
      "--------OnTrader: TradeData(gateway_name='SGIT', symbol='IF2003', exchange=<Exchange.CFFEX: 'CFFEX'>, orderid='0_0_000000004000', tradeid='00000004', direction=<Direction.SHORT: '空'>, offset=<Offset.CLOSE: '平'>, price=3902.8, volume=1, time='13:33:20')\n",
      "--------OnTrader: TradeData(gateway_name='SGIT', symbol='IF2003', exchange=<Exchange.CFFEX: 'CFFEX'>, orderid='0_0_000000004000', tradeid='00000005', direction=<Direction.SHORT: '空'>, offset=<Offset.CLOSE: '平'>, price=3902.8, volume=1, time='13:34:09')\n",
      "--------OnTrader: TradeData(gateway_name='SGIT', symbol='IF2003', exchange=<Exchange.CFFEX: 'CFFEX'>, orderid='0_0_000000005000', tradeid='00000006', direction=<Direction.SHORT: '空'>, offset=<Offset.OPEN: '开'>, price=3902.8, volume=2, time='13:39:47')\n",
      "--------OnTrader: TradeData(gateway_name='SGIT', symbol='IF2003', exchange=<Exchange.CFFEX: 'CFFEX'>, orderid='0_0_000000006000', tradeid='00000007', direction=<Direction.LONG: '多'>, offset=<Offset.CLOSE: '平'>, price=3904.2, volume=1, time='13:47:41')\n",
      "--------OnTrader: TradeData(gateway_name='SGIT', symbol='IF2003', exchange=<Exchange.CFFEX: 'CFFEX'>, orderid='0_0_000000008000', tradeid='00000008', direction=<Direction.LONG: '多'>, offset=<Offset.OPEN: '开'>, price=3904.2, volume=1, time='14:25:27')\n",
      "--------OnTrader: TradeData(gateway_name='SGIT', symbol='IF2003', exchange=<Exchange.CFFEX: 'CFFEX'>, orderid='0_0_000000008000', tradeid='00000009', direction=<Direction.LONG: '多'>, offset=<Offset.OPEN: '开'>, price=3904.2, volume=1, time='14:26:26')\n",
      "2020-02-12 16:20:26.371181\t交易撤单失败，代码：0，信息：撤单成功！\n",
      "2020-02-12 16:20:26.371468\t结算信息确认成功\n",
      "2020-02-12 16:20:26.422920\t合约信息查询成功\n",
      "2020-02-13 00:05:04.172707\t行情服务器连接断开，原因-1\n",
      "2020-02-13 00:05:06.274096\t交易服务器连接断开，原因-1\n",
      "2020-02-13 00:06:05.177644\t行情服务器连接成功\n",
      "2020-02-13 00:06:05.183530\t行情服务器登录成功\n",
      "2020-02-13 00:08:12.278786\t交易服务器连接成功\n",
      "2020-02-13 00:08:12.283936\t交易服务器登录成功\n",
      "2020-02-13 00:08:12.288027\t结算信息确认成功\n",
      "2020-02-13 00:08:12.338534\t合约信息查询成功\n"
     ]
    }
   ],
   "source": [
    "engine.cancel_order(vt_orderid=\"SGIT.0_0_7\")"
   ]
  },
  {
   "cell_type": "code",
   "execution_count": null,
   "metadata": {},
   "outputs": [],
   "source": []
  }
 ],
 "metadata": {
  "kernelspec": {
   "display_name": "Python 3",
   "language": "python",
   "name": "python3"
  },
  "language_info": {
   "codemirror_mode": {
    "name": "ipython",
    "version": 3
   },
   "file_extension": ".py",
   "mimetype": "text/x-python",
   "name": "python",
   "nbconvert_exporter": "python",
   "pygments_lexer": "ipython3",
   "version": "3.7.4"
  }
 },
 "nbformat": 4,
 "nbformat_minor": 4
}
