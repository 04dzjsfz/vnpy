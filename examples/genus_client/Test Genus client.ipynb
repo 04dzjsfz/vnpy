{
 "cells": [
  {
   "cell_type": "code",
   "execution_count": 1,
   "metadata": {},
   "outputs": [
    {
     "data": {
      "text/plain": [
       "<module 'run_mather' from 'C:\\\\Users\\\\yazhang\\\\Documents\\\\GitHub\\\\vnpy\\\\examples\\\\genus_client\\\\run_mather.py'>"
      ]
     },
     "execution_count": 1,
     "metadata": {},
     "output_type": "execute_result"
    }
   ],
   "source": [
    "import time\n",
    "import quickfix as fix\n",
    "from vnpy.trader.object import (\n",
    "    OrderRequest,\n",
    ")\n",
    "from importlib import reload\n",
    "from vnpy.trader.constant import (\n",
    "    Exchange,\n",
    "    Product,\n",
    "    Direction,\n",
    "    OrderType,\n",
    "    Status,\n",
    "    Offset,\n",
    "    OptionType\n",
    ")\n",
    "import run_mather\n",
    "reload(run_mather)\n"
   ]
  },
  {
   "cell_type": "code",
   "execution_count": 2,
   "metadata": {},
   "outputs": [
    {
     "name": "stdout",
     "output_type": "stream",
     "text": [
      "载入Fix 4.2 字典成功\n"
     ]
    }
   ],
   "source": [
    "orderid = 100009\n",
    "child_id =  'co.100009.0.0'\n",
    "\n",
    "fix_client = run_mather.FixClient()\n",
    "fix_client.load_struct()\n",
    "print(\"载入Fix 4.2 字典成功\")"
   ]
  },
  {
   "cell_type": "code",
   "execution_count": 3,
   "metadata": {},
   "outputs": [],
   "source": [
    "import quickfix as fix"
   ]
  },
  {
   "cell_type": "code",
   "execution_count": 4,
   "metadata": {},
   "outputs": [],
   "source": [
    "settings_ma= fix.SessionSettings(\"genus_mather.cfg\")\n",
    "store_factory_ma = fix.FileStoreFactory(settings_ma)\n",
    "log_factory_ma = fix.ScreenLogFactory(settings_ma)"
   ]
  },
  {
   "cell_type": "code",
   "execution_count": 5,
   "metadata": {},
   "outputs": [
    {
     "name": "stdout",
     "output_type": "stream",
     "text": [
      "@@Callback {'<8>BeginString': 'FIX.4.2', '<9>BodyLength': '78', '<35>MsgType': 'LOGON', '<34>MsgSeqNum': '1', '<49>SenderCompID': 'GenusStgyUAT1', '<52>SendingTime': '20200723-04:28:45', '<56>TargetCompID': 'client06', '<98>EncryptMethod': 'NONE', '<108>HeartBtInt': '30', '<141>ResetSeqNumFlag': 'YES', '<10>CheckSum': '018'}\n",
      "Session ID 获取成功， id= FIX.4.2:client06->GenusStgyUAT1\n"
     ]
    }
   ],
   "source": [
    "initiator_ma = fix.SocketInitiator(fix_client, store_factory_ma, settings_ma)\n",
    "initiator_ma.start()"
   ]
  },
  {
   "cell_type": "code",
   "execution_count": 6,
   "metadata": {},
   "outputs": [],
   "source": [
    "settings_ch= fix.SessionSettings(\"genus_child.cfg\")\n",
    "store_factory_ch = fix.FileStoreFactory(settings_ch)\n",
    "log_factory_ch = fix.ScreenLogFactory(settings_ch)"
   ]
  },
  {
   "cell_type": "code",
   "execution_count": 7,
   "metadata": {},
   "outputs": [
    {
     "name": "stdout",
     "output_type": "stream",
     "text": [
      "@@Received msg:  {'<8>BeginString': 'FIX.4.2', '<9>BodyLength': '414', '<35>MsgType': 'EXECUTION_REPORT', '<34>MsgSeqNum': '68', '<49>SenderCompID': 'GenusStgyUAT1', '<50>SenderSubID': 'targetsubid', '<52>SendingTime': '20200723-05:03:00', '<56>TargetCompID': 'client06', '<1>Account': 'account', '<6>AvgPx': '0.0', '<11>ClOrdID': '100009', '<14>CumQty': '0', '<17>ExecID': 'E-20200723-103248-13', '<20>ExecTransType': 'NEW', '<31>LastPx': '0.0', '<32>LastShares': '0', '<37>OrderID': 'co.100009.0.0', '<38>OrderQty': '1000', '<39>OrdStatus': 'EXPIRED', '<40>OrdType': 'MARKET', '<44>Price': '0.0', '<54>Side': 'BUY', '<55>Symbol': '600519.SS', '<58>Text': '[A600][600519.SS][贵州茅台]Expire: End time reached.  [11:30:10]', '<59>TimeInForce': 'DAY', '<60>TransactTime': '20200723-05:03:00', '<150>ExecType': 'EXPIRED', '<151>LeavesQty': '1000', '<167>SecurityType': 'COMMON_STOCK', '<847>': 'TWAP', '<848>': 'StartTime;20200723-02:31:49^EndTime;20200723-03:32:49', '<90046>': 'AlgoEngine01', '<10>CheckSum': '062'}\n",
      "4-onLogout\n",
      "@@Callback {'<8>BeginString': 'FIX.4.2', '<9>BodyLength': '78', '<35>MsgType': 'LOGON', '<34>MsgSeqNum': '1', '<49>SenderCompID': 'GenusStgyUAT1', '<52>SendingTime': '20200723-06:00:16', '<56>TargetCompID': 'client06', '<98>EncryptMethod': 'NONE', '<108>HeartBtInt': '30', '<141>ResetSeqNumFlag': 'YES', '<10>CheckSum': '008'}\n",
      "Session ID 获取成功， id= FIX.4.2:client06->GenusStgyUAT1\n",
      "4-onLogout\n",
      "4-onLogout\n",
      "4-onLogout\n",
      "4-onLogout\n",
      "4-onLogout\n",
      "4-onLogout\n",
      "4-onLogout\n",
      "@@Callback {'<8>BeginString': 'FIX.4.2', '<9>BodyLength': '125', '<35>MsgType': 'LOGON', '<34>MsgSeqNum': '1', '<49>SenderCompID': 'GenusVnpyMarket', '<52>SendingTime': '20200723-07:05:51.000', '<56>TargetCompID': 'VnpyUAT6', '<57>TargetSubID': 'targetsubid', '<98>EncryptMethod': 'NONE', '<108>HeartBtInt': '30', '<141>ResetSeqNumFlag': 'YES', '<553>': 'username', '<554>': 'password', '<10>CheckSum': '253'}\n",
      "Session ID 获取成功， id= FIX.4.2:VnpyUAT6->GenusVnpyMarket\n",
      "4-onLogout\n",
      "@@Callback {'<8>BeginString': 'FIX.4.2', '<9>BodyLength': '125', '<35>MsgType': 'LOGON', '<34>MsgSeqNum': '1', '<49>SenderCompID': 'GenusVnpyMarket', '<52>SendingTime': '20200723-07:22:21.000', '<56>TargetCompID': 'VnpyUAT6', '<57>TargetSubID': 'targetsubid', '<98>EncryptMethod': 'NONE', '<108>HeartBtInt': '30', '<141>ResetSeqNumFlag': 'YES', '<553>': 'username', '<554>': 'password', '<10>CheckSum': '249'}\n",
      "Session ID 获取成功， id= FIX.4.2:VnpyUAT6->GenusVnpyMarket\n",
      "4-onLogout\n",
      "@@Callback {'<8>BeginString': 'FIX.4.2', '<9>BodyLength': '125', '<35>MsgType': 'LOGON', '<34>MsgSeqNum': '1', '<49>SenderCompID': 'GenusVnpyMarket', '<52>SendingTime': '20200723-07:23:21.000', '<56>TargetCompID': 'VnpyUAT6', '<57>TargetSubID': 'targetsubid', '<98>EncryptMethod': 'NONE', '<108>HeartBtInt': '30', '<141>ResetSeqNumFlag': 'YES', '<553>': 'username', '<554>': 'password', '<10>CheckSum': '250'}\n",
      "Session ID 获取成功， id= FIX.4.2:VnpyUAT6->GenusVnpyMarket\n",
      "4-onLogout\n"
     ]
    }
   ],
   "source": [
    "initiator_ch = fix.SocketInitiator(fix_client, store_factory_ch, settings_ch)\n",
    "initiator_ch.start()"
   ]
  },
  {
   "cell_type": "code",
   "execution_count": null,
   "metadata": {},
   "outputs": [],
   "source": []
  }
 ],
 "metadata": {
  "kernelspec": {
   "display_name": "Python 3",
   "language": "python",
   "name": "python3"
  }
 },
 "nbformat": 4,
 "nbformat_minor": 2
}
